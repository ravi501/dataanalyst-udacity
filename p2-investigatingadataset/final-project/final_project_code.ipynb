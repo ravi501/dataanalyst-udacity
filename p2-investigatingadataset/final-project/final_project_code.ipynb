{
 "cells": [
  {
   "cell_type": "markdown",
   "metadata": {},
   "source": [
    "# Introduction\n",
    "\n",
    "The goal of this project is to investigate the survival rate of the passengers travelling on the titanic ship, and determine which factors affect the survival rate of the passengers. Below are the questions that would be investigated by the end of the analysis:\n",
    "\n",
    "1) What is the ratio of female survivors when compared to male survivors?\n",
    "\n",
    "2) What is the ratio of first class vs second class vs third class survivors?\n",
    "\n",
    "3) Investigating and depicting the number of passengers who survived vs who didn't by each class?\n",
    "\n",
    "4) Which families have the highest number of survivors?"
   ]
  },
  {
   "cell_type": "markdown",
   "metadata": {},
   "source": [
    "# Load Data from CSVs\n",
    "\n",
    "The first step in the process would be to load the data from the CSV file into our data dictionary. I will be using unicodecsv library to import the data from the CSV file"
   ]
  },
  {
   "cell_type": "code",
   "execution_count": 5,
   "metadata": {
    "collapsed": true
   },
   "outputs": [],
   "source": [
    "import unicodecsv\n",
    "\n",
    "def read_csv_file(filename):\n",
    "    with open(filename, 'rb') as f:\n",
    "        reader = unicodecsv.DictReader(f)\n",
    "        return list(reader)"
   ]
  },
  {
   "cell_type": "markdown",
   "metadata": {},
   "source": [
    "### Importing data from CSV using Pandas library"
   ]
  },
  {
   "cell_type": "code",
   "execution_count": 7,
   "metadata": {
    "collapsed": false
   },
   "outputs": [
    {
     "name": "stdout",
     "output_type": "stream",
     "text": [
      "       PassengerId    Survived      Pclass         Age       SibSp  \\\n",
      "count   891.000000  891.000000  891.000000  714.000000  891.000000   \n",
      "mean    446.000000    0.383838    2.308642   29.699118    0.523008   \n",
      "std     257.353842    0.486592    0.836071   14.526497    1.102743   \n",
      "min       1.000000    0.000000    1.000000    0.420000    0.000000   \n",
      "25%     223.500000    0.000000    2.000000         NaN    0.000000   \n",
      "50%     446.000000    0.000000    3.000000         NaN    0.000000   \n",
      "75%     668.500000    1.000000    3.000000         NaN    1.000000   \n",
      "max     891.000000    1.000000    3.000000   80.000000    8.000000   \n",
      "\n",
      "            Parch        Fare  \n",
      "count  891.000000  891.000000  \n",
      "mean     0.381594   32.204208  \n",
      "std      0.806057   49.693429  \n",
      "min      0.000000    0.000000  \n",
      "25%      0.000000    7.910400  \n",
      "50%      0.000000   14.454200  \n",
      "75%      0.000000   31.000000  \n",
      "max      6.000000  512.329200  \n"
     ]
    },
    {
     "name": "stderr",
     "output_type": "stream",
     "text": [
      "/home/ravi/anaconda2/lib/python2.7/site-packages/numpy/lib/function_base.py:3834: RuntimeWarning: Invalid value encountered in percentile\n",
      "  RuntimeWarning)\n"
     ]
    }
   ],
   "source": [
    "import pandas as pd\n",
    "import matplotlib.pyplot as plt\n",
    "\n",
    "titanic_data_pandas = pd.read_csv('titanic-data.csv')\n",
    "\n",
    "print titanic_data_pandas.describe()"
   ]
  },
  {
   "cell_type": "code",
   "execution_count": 8,
   "metadata": {
    "collapsed": false
   },
   "outputs": [
    {
     "name": "stdout",
     "output_type": "stream",
     "text": [
      "     PassengerId  Survived  Pclass  \\\n",
      "0              1         0       3   \n",
      "1              2         1       1   \n",
      "2              3         1       3   \n",
      "3              4         1       1   \n",
      "4              5         0       3   \n",
      "5              6         0       3   \n",
      "6              7         0       1   \n",
      "7              8         0       3   \n",
      "8              9         1       3   \n",
      "9             10         1       2   \n",
      "10            11         1       3   \n",
      "11            12         1       1   \n",
      "12            13         0       3   \n",
      "13            14         0       3   \n",
      "14            15         0       3   \n",
      "15            16         1       2   \n",
      "16            17         0       3   \n",
      "17            18         1       2   \n",
      "18            19         0       3   \n",
      "19            20         1       3   \n",
      "20            21         0       2   \n",
      "21            22         1       2   \n",
      "22            23         1       3   \n",
      "23            24         1       1   \n",
      "24            25         0       3   \n",
      "25            26         1       3   \n",
      "26            27         0       3   \n",
      "27            28         0       1   \n",
      "28            29         1       3   \n",
      "29            30         0       3   \n",
      "..           ...       ...     ...   \n",
      "861          862         0       2   \n",
      "862          863         1       1   \n",
      "863          864         0       3   \n",
      "864          865         0       2   \n",
      "865          866         1       2   \n",
      "866          867         1       2   \n",
      "867          868         0       1   \n",
      "868          869         0       3   \n",
      "869          870         1       3   \n",
      "870          871         0       3   \n",
      "871          872         1       1   \n",
      "872          873         0       1   \n",
      "873          874         0       3   \n",
      "874          875         1       2   \n",
      "875          876         1       3   \n",
      "876          877         0       3   \n",
      "877          878         0       3   \n",
      "878          879         0       3   \n",
      "879          880         1       1   \n",
      "880          881         1       2   \n",
      "881          882         0       3   \n",
      "882          883         0       3   \n",
      "883          884         0       2   \n",
      "884          885         0       3   \n",
      "885          886         0       3   \n",
      "886          887         0       2   \n",
      "887          888         1       1   \n",
      "888          889         0       3   \n",
      "889          890         1       1   \n",
      "890          891         0       3   \n",
      "\n",
      "                                                  Name     Sex   Age  SibSp  \\\n",
      "0                              Braund, Mr. Owen Harris    male  22.0      1   \n",
      "1    Cumings, Mrs. John Bradley (Florence Briggs Th...  female  38.0      1   \n",
      "2                               Heikkinen, Miss. Laina  female  26.0      0   \n",
      "3         Futrelle, Mrs. Jacques Heath (Lily May Peel)  female  35.0      1   \n",
      "4                             Allen, Mr. William Henry    male  35.0      0   \n",
      "5                                     Moran, Mr. James    male   NaN      0   \n",
      "6                              McCarthy, Mr. Timothy J    male  54.0      0   \n",
      "7                       Palsson, Master. Gosta Leonard    male   2.0      3   \n",
      "8    Johnson, Mrs. Oscar W (Elisabeth Vilhelmina Berg)  female  27.0      0   \n",
      "9                  Nasser, Mrs. Nicholas (Adele Achem)  female  14.0      1   \n",
      "10                     Sandstrom, Miss. Marguerite Rut  female   4.0      1   \n",
      "11                            Bonnell, Miss. Elizabeth  female  58.0      0   \n",
      "12                      Saundercock, Mr. William Henry    male  20.0      0   \n",
      "13                         Andersson, Mr. Anders Johan    male  39.0      1   \n",
      "14                Vestrom, Miss. Hulda Amanda Adolfina  female  14.0      0   \n",
      "15                    Hewlett, Mrs. (Mary D Kingcome)   female  55.0      0   \n",
      "16                                Rice, Master. Eugene    male   2.0      4   \n",
      "17                        Williams, Mr. Charles Eugene    male   NaN      0   \n",
      "18   Vander Planke, Mrs. Julius (Emelia Maria Vande...  female  31.0      1   \n",
      "19                             Masselmani, Mrs. Fatima  female   NaN      0   \n",
      "20                                Fynney, Mr. Joseph J    male  35.0      0   \n",
      "21                               Beesley, Mr. Lawrence    male  34.0      0   \n",
      "22                         McGowan, Miss. Anna \"Annie\"  female  15.0      0   \n",
      "23                        Sloper, Mr. William Thompson    male  28.0      0   \n",
      "24                       Palsson, Miss. Torborg Danira  female   8.0      3   \n",
      "25   Asplund, Mrs. Carl Oscar (Selma Augusta Emilia...  female  38.0      1   \n",
      "26                             Emir, Mr. Farred Chehab    male   NaN      0   \n",
      "27                      Fortune, Mr. Charles Alexander    male  19.0      3   \n",
      "28                       O'Dwyer, Miss. Ellen \"Nellie\"  female   NaN      0   \n",
      "29                                 Todoroff, Mr. Lalio    male   NaN      0   \n",
      "..                                                 ...     ...   ...    ...   \n",
      "861                        Giles, Mr. Frederick Edward    male  21.0      1   \n",
      "862  Swift, Mrs. Frederick Joel (Margaret Welles Ba...  female  48.0      0   \n",
      "863                  Sage, Miss. Dorothy Edith \"Dolly\"  female   NaN      8   \n",
      "864                             Gill, Mr. John William    male  24.0      0   \n",
      "865                           Bystrom, Mrs. (Karolina)  female  42.0      0   \n",
      "866                       Duran y More, Miss. Asuncion  female  27.0      1   \n",
      "867               Roebling, Mr. Washington Augustus II    male  31.0      0   \n",
      "868                        van Melkebeke, Mr. Philemon    male   NaN      0   \n",
      "869                    Johnson, Master. Harold Theodor    male   4.0      1   \n",
      "870                                  Balkic, Mr. Cerin    male  26.0      0   \n",
      "871   Beckwith, Mrs. Richard Leonard (Sallie Monypeny)  female  47.0      1   \n",
      "872                           Carlsson, Mr. Frans Olof    male  33.0      0   \n",
      "873                        Vander Cruyssen, Mr. Victor    male  47.0      0   \n",
      "874              Abelson, Mrs. Samuel (Hannah Wizosky)  female  28.0      1   \n",
      "875                   Najib, Miss. Adele Kiamie \"Jane\"  female  15.0      0   \n",
      "876                      Gustafsson, Mr. Alfred Ossian    male  20.0      0   \n",
      "877                               Petroff, Mr. Nedelio    male  19.0      0   \n",
      "878                                 Laleff, Mr. Kristo    male   NaN      0   \n",
      "879      Potter, Mrs. Thomas Jr (Lily Alexenia Wilson)  female  56.0      0   \n",
      "880       Shelley, Mrs. William (Imanita Parrish Hall)  female  25.0      0   \n",
      "881                                 Markun, Mr. Johann    male  33.0      0   \n",
      "882                       Dahlberg, Miss. Gerda Ulrika  female  22.0      0   \n",
      "883                      Banfield, Mr. Frederick James    male  28.0      0   \n",
      "884                             Sutehall, Mr. Henry Jr    male  25.0      0   \n",
      "885               Rice, Mrs. William (Margaret Norton)  female  39.0      0   \n",
      "886                              Montvila, Rev. Juozas    male  27.0      0   \n",
      "887                       Graham, Miss. Margaret Edith  female  19.0      0   \n",
      "888           Johnston, Miss. Catherine Helen \"Carrie\"  female   NaN      1   \n",
      "889                              Behr, Mr. Karl Howell    male  26.0      0   \n",
      "890                                Dooley, Mr. Patrick    male  32.0      0   \n",
      "\n",
      "     Parch            Ticket      Fare        Cabin Embarked  \n",
      "0        0         A/5 21171    7.2500          NaN        S  \n",
      "1        0          PC 17599   71.2833          C85        C  \n",
      "2        0  STON/O2. 3101282    7.9250          NaN        S  \n",
      "3        0            113803   53.1000         C123        S  \n",
      "4        0            373450    8.0500          NaN        S  \n",
      "5        0            330877    8.4583          NaN        Q  \n",
      "6        0             17463   51.8625          E46        S  \n",
      "7        1            349909   21.0750          NaN        S  \n",
      "8        2            347742   11.1333          NaN        S  \n",
      "9        0            237736   30.0708          NaN        C  \n",
      "10       1           PP 9549   16.7000           G6        S  \n",
      "11       0            113783   26.5500         C103        S  \n",
      "12       0         A/5. 2151    8.0500          NaN        S  \n",
      "13       5            347082   31.2750          NaN        S  \n",
      "14       0            350406    7.8542          NaN        S  \n",
      "15       0            248706   16.0000          NaN        S  \n",
      "16       1            382652   29.1250          NaN        Q  \n",
      "17       0            244373   13.0000          NaN        S  \n",
      "18       0            345763   18.0000          NaN        S  \n",
      "19       0              2649    7.2250          NaN        C  \n",
      "20       0            239865   26.0000          NaN        S  \n",
      "21       0            248698   13.0000          D56        S  \n",
      "22       0            330923    8.0292          NaN        Q  \n",
      "23       0            113788   35.5000           A6        S  \n",
      "24       1            349909   21.0750          NaN        S  \n",
      "25       5            347077   31.3875          NaN        S  \n",
      "26       0              2631    7.2250          NaN        C  \n",
      "27       2             19950  263.0000  C23 C25 C27        S  \n",
      "28       0            330959    7.8792          NaN        Q  \n",
      "29       0            349216    7.8958          NaN        S  \n",
      "..     ...               ...       ...          ...      ...  \n",
      "861      0             28134   11.5000          NaN        S  \n",
      "862      0             17466   25.9292          D17        S  \n",
      "863      2          CA. 2343   69.5500          NaN        S  \n",
      "864      0            233866   13.0000          NaN        S  \n",
      "865      0            236852   13.0000          NaN        S  \n",
      "866      0     SC/PARIS 2149   13.8583          NaN        C  \n",
      "867      0          PC 17590   50.4958          A24        S  \n",
      "868      0            345777    9.5000          NaN        S  \n",
      "869      1            347742   11.1333          NaN        S  \n",
      "870      0            349248    7.8958          NaN        S  \n",
      "871      1             11751   52.5542          D35        S  \n",
      "872      0               695    5.0000  B51 B53 B55        S  \n",
      "873      0            345765    9.0000          NaN        S  \n",
      "874      0         P/PP 3381   24.0000          NaN        C  \n",
      "875      0              2667    7.2250          NaN        C  \n",
      "876      0              7534    9.8458          NaN        S  \n",
      "877      0            349212    7.8958          NaN        S  \n",
      "878      0            349217    7.8958          NaN        S  \n",
      "879      1             11767   83.1583          C50        C  \n",
      "880      1            230433   26.0000          NaN        S  \n",
      "881      0            349257    7.8958          NaN        S  \n",
      "882      0              7552   10.5167          NaN        S  \n",
      "883      0  C.A./SOTON 34068   10.5000          NaN        S  \n",
      "884      0   SOTON/OQ 392076    7.0500          NaN        S  \n",
      "885      5            382652   29.1250          NaN        Q  \n",
      "886      0            211536   13.0000          NaN        S  \n",
      "887      0            112053   30.0000          B42        S  \n",
      "888      2        W./C. 6607   23.4500          NaN        S  \n",
      "889      0            111369   30.0000         C148        C  \n",
      "890      0            370376    7.7500          NaN        Q  \n",
      "\n",
      "[891 rows x 12 columns]\n"
     ]
    }
   ],
   "source": [
    "print titanic_data_pandas"
   ]
  },
  {
   "cell_type": "markdown",
   "metadata": {},
   "source": [
    "# Data Wrangling Phase\n",
    "\n",
    "Once the CSV data is imported into the lists, the data needs to be fixed and the data needs to be converted into their respective data types. "
   ]
  },
  {
   "cell_type": "markdown",
   "metadata": {},
   "source": [
    "## Fixing data types"
   ]
  },
  {
   "cell_type": "markdown",
   "metadata": {},
   "source": [
    "### Fixing data types using Python lists"
   ]
  },
  {
   "cell_type": "code",
   "execution_count": 9,
   "metadata": {
    "collapsed": false
   },
   "outputs": [],
   "source": [
    "# Takes string with values 0 or 1, \n",
    "# and returns a boolean True or False\n",
    "def parse_int_to_boolean(i):\n",
    "    if i == 1:\n",
    "        return True\n",
    "    elif i == 0:\n",
    "        return False\n",
    "\n",
    "# Takes the name of the passenger, and returns the first name and last name\n",
    "# as a list. This function also removes the Mr., Mrs., Miss, Master titles given to the person, \n",
    "# and it also crops out everything provided in brackets\n",
    "def parse_first_and_last_names(name):\n",
    "    \n",
    "    #Splits the name by a comma\n",
    "    first_last_names = name.split(\",\")\n",
    "    \n",
    "    #Splits the first name by \". \"\n",
    "    first_last_names[1] = first_last_names[1].split(\". \")[1]\n",
    "    \n",
    "    #If the name contains anything in brackets, they are ignored\n",
    "    if '(' in first_last_names[1]:\n",
    "        first_last_names[1] = first_last_names[1].split(\" (\")[0]\n",
    "    return first_last_names[0], first_last_names[1]\n",
    "\n",
    "# Takes the sex as male or femal, and returns a single character 'M' or 'F'\n",
    "def parse_sex(sex):\n",
    "    if 'male' == sex:\n",
    "        return 'M'\n",
    "    else:\n",
    "        return 'F'\n",
    "\n",
    "def get_last_names(name):\n",
    "    return name[0]"
   ]
  },
  {
   "cell_type": "code",
   "execution_count": 10,
   "metadata": {
    "collapsed": false
   },
   "outputs": [],
   "source": [
    "titanic_data_pandas['Name'] = titanic_data_pandas['Name'].map(parse_first_and_last_names)\n",
    "titanic_data_pandas['Sex'] = titanic_data_pandas['Sex'].map(parse_sex)\n"
   ]
  },
  {
   "cell_type": "code",
   "execution_count": 11,
   "metadata": {
    "collapsed": true
   },
   "outputs": [],
   "source": [
    "titanic_data_pandas['Survived'] = titanic_data_pandas['Survived'].map(parse_int_to_boolean)"
   ]
  },
  {
   "cell_type": "code",
   "execution_count": 12,
   "metadata": {
    "collapsed": true
   },
   "outputs": [],
   "source": [
    "titanic_data_pandas['Last Name'] = titanic_data_pandas['Name'].map(get_last_names)"
   ]
  },
  {
   "cell_type": "code",
   "execution_count": 13,
   "metadata": {
    "collapsed": false
   },
   "outputs": [
    {
     "name": "stdout",
     "output_type": "stream",
     "text": [
      "     PassengerId Survived  Pclass                                  Name Sex  \\\n",
      "0              1    False       3                 (Braund, Owen Harris)   M   \n",
      "1              2     True       1               (Cumings, John Bradley)   F   \n",
      "2              3     True       3                    (Heikkinen, Laina)   F   \n",
      "3              4     True       1             (Futrelle, Jacques Heath)   F   \n",
      "4              5    False       3                (Allen, William Henry)   M   \n",
      "5              6    False       3                        (Moran, James)   M   \n",
      "6              7    False       1                 (McCarthy, Timothy J)   M   \n",
      "7              8    False       3              (Palsson, Gosta Leonard)   M   \n",
      "8              9     True       3                    (Johnson, Oscar W)   F   \n",
      "9             10     True       2                    (Nasser, Nicholas)   F   \n",
      "10            11     True       3           (Sandstrom, Marguerite Rut)   F   \n",
      "11            12     True       1                  (Bonnell, Elizabeth)   F   \n",
      "12            13    False       3          (Saundercock, William Henry)   M   \n",
      "13            14    False       3             (Andersson, Anders Johan)   M   \n",
      "14            15    False       3      (Vestrom, Hulda Amanda Adolfina)   F   \n",
      "15            16     True       2         (Hewlett, (Mary D Kingcome) )   F   \n",
      "16            17    False       3                        (Rice, Eugene)   M   \n",
      "17            18     True       2            (Williams, Charles Eugene)   M   \n",
      "18            19    False       3               (Vander Planke, Julius)   F   \n",
      "19            20     True       3                  (Masselmani, Fatima)   F   \n",
      "20            21    False       2                    (Fynney, Joseph J)   M   \n",
      "21            22     True       2                   (Beesley, Lawrence)   M   \n",
      "22            23     True       3               (McGowan, Anna \"Annie\")   F   \n",
      "23            24     True       1            (Sloper, William Thompson)   M   \n",
      "24            25    False       3             (Palsson, Torborg Danira)   F   \n",
      "25            26     True       3                 (Asplund, Carl Oscar)   F   \n",
      "26            27    False       3                 (Emir, Farred Chehab)   M   \n",
      "27            28    False       1          (Fortune, Charles Alexander)   M   \n",
      "28            29     True       3             (O'Dwyer, Ellen \"Nellie\")   F   \n",
      "29            30    False       3                     (Todoroff, Lalio)   M   \n",
      "..           ...      ...     ...                                   ...  ..   \n",
      "861          862    False       2             (Giles, Frederick Edward)   M   \n",
      "862          863     True       1               (Swift, Frederick Joel)   F   \n",
      "863          864    False       3         (Sage, Dorothy Edith \"Dolly\")   F   \n",
      "864          865    False       2                  (Gill, John William)   M   \n",
      "865          866     True       2                 (Bystrom, (Karolina))   F   \n",
      "866          867     True       2              (Duran y More, Asuncion)   F   \n",
      "867          868    False       1    (Roebling, Washington Augustus II)   M   \n",
      "868          869    False       3             (van Melkebeke, Philemon)   M   \n",
      "869          870     True       3             (Johnson, Harold Theodor)   M   \n",
      "870          871    False       3                       (Balkic, Cerin)   M   \n",
      "871          872     True       1           (Beckwith, Richard Leonard)   F   \n",
      "872          873    False       1                (Carlsson, Frans Olof)   M   \n",
      "873          874    False       3             (Vander Cruyssen, Victor)   M   \n",
      "874          875     True       2                     (Abelson, Samuel)   F   \n",
      "875          876     True       3          (Najib, Adele Kiamie \"Jane\")   F   \n",
      "876          877    False       3           (Gustafsson, Alfred Ossian)   M   \n",
      "877          878    False       3                    (Petroff, Nedelio)   M   \n",
      "878          879    False       3                      (Laleff, Kristo)   M   \n",
      "879          880     True       1                   (Potter, Thomas Jr)   F   \n",
      "880          881     True       2                    (Shelley, William)   F   \n",
      "881          882    False       3                      (Markun, Johann)   M   \n",
      "882          883    False       3              (Dahlberg, Gerda Ulrika)   F   \n",
      "883          884    False       2           (Banfield, Frederick James)   M   \n",
      "884          885    False       3                  (Sutehall, Henry Jr)   M   \n",
      "885          886    False       3                       (Rice, William)   F   \n",
      "886          887    False       2                    (Montvila, Juozas)   M   \n",
      "887          888     True       1              (Graham, Margaret Edith)   F   \n",
      "888          889    False       3  (Johnston, Catherine Helen \"Carrie\")   F   \n",
      "889          890     True       1                   (Behr, Karl Howell)   M   \n",
      "890          891    False       3                     (Dooley, Patrick)   M   \n",
      "\n",
      "      Age  SibSp  Parch            Ticket      Fare        Cabin Embarked  \\\n",
      "0    22.0      1      0         A/5 21171    7.2500          NaN        S   \n",
      "1    38.0      1      0          PC 17599   71.2833          C85        C   \n",
      "2    26.0      0      0  STON/O2. 3101282    7.9250          NaN        S   \n",
      "3    35.0      1      0            113803   53.1000         C123        S   \n",
      "4    35.0      0      0            373450    8.0500          NaN        S   \n",
      "5     NaN      0      0            330877    8.4583          NaN        Q   \n",
      "6    54.0      0      0             17463   51.8625          E46        S   \n",
      "7     2.0      3      1            349909   21.0750          NaN        S   \n",
      "8    27.0      0      2            347742   11.1333          NaN        S   \n",
      "9    14.0      1      0            237736   30.0708          NaN        C   \n",
      "10    4.0      1      1           PP 9549   16.7000           G6        S   \n",
      "11   58.0      0      0            113783   26.5500         C103        S   \n",
      "12   20.0      0      0         A/5. 2151    8.0500          NaN        S   \n",
      "13   39.0      1      5            347082   31.2750          NaN        S   \n",
      "14   14.0      0      0            350406    7.8542          NaN        S   \n",
      "15   55.0      0      0            248706   16.0000          NaN        S   \n",
      "16    2.0      4      1            382652   29.1250          NaN        Q   \n",
      "17    NaN      0      0            244373   13.0000          NaN        S   \n",
      "18   31.0      1      0            345763   18.0000          NaN        S   \n",
      "19    NaN      0      0              2649    7.2250          NaN        C   \n",
      "20   35.0      0      0            239865   26.0000          NaN        S   \n",
      "21   34.0      0      0            248698   13.0000          D56        S   \n",
      "22   15.0      0      0            330923    8.0292          NaN        Q   \n",
      "23   28.0      0      0            113788   35.5000           A6        S   \n",
      "24    8.0      3      1            349909   21.0750          NaN        S   \n",
      "25   38.0      1      5            347077   31.3875          NaN        S   \n",
      "26    NaN      0      0              2631    7.2250          NaN        C   \n",
      "27   19.0      3      2             19950  263.0000  C23 C25 C27        S   \n",
      "28    NaN      0      0            330959    7.8792          NaN        Q   \n",
      "29    NaN      0      0            349216    7.8958          NaN        S   \n",
      "..    ...    ...    ...               ...       ...          ...      ...   \n",
      "861  21.0      1      0             28134   11.5000          NaN        S   \n",
      "862  48.0      0      0             17466   25.9292          D17        S   \n",
      "863   NaN      8      2          CA. 2343   69.5500          NaN        S   \n",
      "864  24.0      0      0            233866   13.0000          NaN        S   \n",
      "865  42.0      0      0            236852   13.0000          NaN        S   \n",
      "866  27.0      1      0     SC/PARIS 2149   13.8583          NaN        C   \n",
      "867  31.0      0      0          PC 17590   50.4958          A24        S   \n",
      "868   NaN      0      0            345777    9.5000          NaN        S   \n",
      "869   4.0      1      1            347742   11.1333          NaN        S   \n",
      "870  26.0      0      0            349248    7.8958          NaN        S   \n",
      "871  47.0      1      1             11751   52.5542          D35        S   \n",
      "872  33.0      0      0               695    5.0000  B51 B53 B55        S   \n",
      "873  47.0      0      0            345765    9.0000          NaN        S   \n",
      "874  28.0      1      0         P/PP 3381   24.0000          NaN        C   \n",
      "875  15.0      0      0              2667    7.2250          NaN        C   \n",
      "876  20.0      0      0              7534    9.8458          NaN        S   \n",
      "877  19.0      0      0            349212    7.8958          NaN        S   \n",
      "878   NaN      0      0            349217    7.8958          NaN        S   \n",
      "879  56.0      0      1             11767   83.1583          C50        C   \n",
      "880  25.0      0      1            230433   26.0000          NaN        S   \n",
      "881  33.0      0      0            349257    7.8958          NaN        S   \n",
      "882  22.0      0      0              7552   10.5167          NaN        S   \n",
      "883  28.0      0      0  C.A./SOTON 34068   10.5000          NaN        S   \n",
      "884  25.0      0      0   SOTON/OQ 392076    7.0500          NaN        S   \n",
      "885  39.0      0      5            382652   29.1250          NaN        Q   \n",
      "886  27.0      0      0            211536   13.0000          NaN        S   \n",
      "887  19.0      0      0            112053   30.0000          B42        S   \n",
      "888   NaN      1      2        W./C. 6607   23.4500          NaN        S   \n",
      "889  26.0      0      0            111369   30.0000         C148        C   \n",
      "890  32.0      0      0            370376    7.7500          NaN        Q   \n",
      "\n",
      "           Last Name  \n",
      "0             Braund  \n",
      "1            Cumings  \n",
      "2          Heikkinen  \n",
      "3           Futrelle  \n",
      "4              Allen  \n",
      "5              Moran  \n",
      "6           McCarthy  \n",
      "7            Palsson  \n",
      "8            Johnson  \n",
      "9             Nasser  \n",
      "10         Sandstrom  \n",
      "11           Bonnell  \n",
      "12       Saundercock  \n",
      "13         Andersson  \n",
      "14           Vestrom  \n",
      "15           Hewlett  \n",
      "16              Rice  \n",
      "17          Williams  \n",
      "18     Vander Planke  \n",
      "19        Masselmani  \n",
      "20            Fynney  \n",
      "21           Beesley  \n",
      "22           McGowan  \n",
      "23            Sloper  \n",
      "24           Palsson  \n",
      "25           Asplund  \n",
      "26              Emir  \n",
      "27           Fortune  \n",
      "28           O'Dwyer  \n",
      "29          Todoroff  \n",
      "..               ...  \n",
      "861            Giles  \n",
      "862            Swift  \n",
      "863             Sage  \n",
      "864             Gill  \n",
      "865          Bystrom  \n",
      "866     Duran y More  \n",
      "867         Roebling  \n",
      "868    van Melkebeke  \n",
      "869          Johnson  \n",
      "870           Balkic  \n",
      "871         Beckwith  \n",
      "872         Carlsson  \n",
      "873  Vander Cruyssen  \n",
      "874          Abelson  \n",
      "875            Najib  \n",
      "876       Gustafsson  \n",
      "877          Petroff  \n",
      "878           Laleff  \n",
      "879           Potter  \n",
      "880          Shelley  \n",
      "881           Markun  \n",
      "882         Dahlberg  \n",
      "883         Banfield  \n",
      "884         Sutehall  \n",
      "885             Rice  \n",
      "886         Montvila  \n",
      "887           Graham  \n",
      "888         Johnston  \n",
      "889             Behr  \n",
      "890           Dooley  \n",
      "\n",
      "[891 rows x 13 columns]\n"
     ]
    }
   ],
   "source": [
    "print titanic_data_pandas"
   ]
  },
  {
   "cell_type": "markdown",
   "metadata": {},
   "source": [
    "# Exploration and Communication Phase\n",
    "\n",
    "I am now going to analyze the titanic data by asking questions from the data, and answering them using the data analysis tools in python. The analyzed results presented and displayed below."
   ]
  },
  {
   "cell_type": "markdown",
   "metadata": {},
   "source": [
    "## 1. The ratio of male to female survivors"
   ]
  },
  {
   "cell_type": "code",
   "execution_count": 14,
   "metadata": {
    "collapsed": false
   },
   "outputs": [
    {
     "data": {
      "image/png": "[encoded data removed]",
      "text/plain": [
       "<matplotlib.figure.Figure at 0xeb622a4c>"
      ]
     },
     "metadata": {},
     "output_type": "display_data"
    }
   ],
   "source": [
    "import matplotlib.pyplot as plt\n",
    "\n",
    "male_female_survivors = titanic_data_pandas.groupby('Sex')['Survived'].count()\n",
    "labels = 'Male', 'Female'\n",
    "colors = ['yellow', 'blue']\n",
    "plt.title('Ratio of male to female survivors')\n",
    "plt.pie(male_female_survivors, labels = labels, colors = colors, autopct='%1.1f%%', shadow=True)\n",
    "plt.show()"
   ]
  },
  {
   "cell_type": "markdown",
   "metadata": {},
   "source": [
    "## 2. The ratio of first, second and third class survivors"
   ]
  },
  {
   "cell_type": "code",
   "execution_count": 19,
   "metadata": {
    "collapsed": true
   },
   "outputs": [],
   "source": [
    "# This function is used to print the number of first, second, and third class passengers along side the % values\n",
    "def make_autopct(values):\n",
    "  def my_autopct(pct):\n",
    "      total = sum(values)\n",
    "      val = int(round(pct*total/100.0))\n",
    "      return '{p:.2f}%  ({v:d})'.format(p=pct,v=val)\n",
    "  return my_autopct"
   ]
  },
  {
   "cell_type": "code",
   "execution_count": 20,
   "metadata": {
    "collapsed": false
   },
   "outputs": [
    {
     "data": {
      "image/png": "[encoded data removed]",
      "text/plain": [
       "<matplotlib.figure.Figure at 0xe9f557ac>"
      ]
     },
     "metadata": {},
     "output_type": "display_data"
    }
   ],
   "source": [
    "first_second_third_class_survivors = titanic_data_pandas.groupby('Pclass')['Survived'].count()\n",
    "\n",
    "labels = 'First class', 'Second class', 'Third class'\n",
    "colors = ['yellow', 'blue', 'Green']\n",
    "plt.title('Ratio of first, second and third class survivors')\n",
    "plt.pie(first_second_third_class_survivors, labels = labels, colors = colors, shadow=True, \n",
    "        autopct = make_autopct(first_second_third_class_survivors))\n",
    "plt.show()"
   ]
  },
  {
   "cell_type": "markdown",
   "metadata": {},
   "source": [
    "## 3. The ratio of passengers who survived vs those who didn't in first, second and third classes"
   ]
  },
  {
   "cell_type": "code",
   "execution_count": 12,
   "metadata": {
    "collapsed": false
   },
   "outputs": [
    {
     "data": {
      "image/png": "[encoded data removed]",
      "text/plain": [
       "<matplotlib.figure.Figure at 0xea0b340c>"
      ]
     },
     "metadata": {},
     "output_type": "display_data"
    }
   ],
   "source": [
    "each_class_survivors = titanic_data_pandas.groupby(['Survived', 'Pclass']).size().unstack('Survived').fillna(False)\n",
    "\n",
    "each_class_survivors[[0, 1]].plot(kind='bar')\n",
    "plt.title('Survivors by class')\n",
    "plt.xlabel('Class numbers')\n",
    "plt.ylabel('Survived vs not survived count')\n",
    "plt.show()"
   ]
  },
  {
   "cell_type": "markdown",
   "metadata": {},
   "source": [
    "## 4. Survived passengers grouped by last name\n",
    "\n",
    "The below graph looks ugly, but it provides the family details of the passengers who survived. Using this information, we can estimate which family has the highest number of survivals and which family has fewer survivors from the titanic incident."
   ]
  },
  {
   "cell_type": "code",
   "execution_count": 47,
   "metadata": {
    "collapsed": false
   },
   "outputs": [],
   "source": [
    "def print_top25_passengers_survived_last_names():\n",
    "    survivors_by_last_name = titanic_data_pandas.groupby('Last Name')['Survived'].count().sort_values(ascending=False)\n",
    "    top_25_last_names_survived = survivors_by_last_name.head(25)\n",
    "    top_25_last_names_survived.plot(kind='bar')\n",
    "    plt.title('Number of survivors by last name')\n",
    "    plt.ylabel('Number of passengers survived')\n",
    "    plt.show()"
   ]
  },
  {
   "cell_type": "code",
   "execution_count": 48,
   "metadata": {
    "collapsed": false
   },
   "outputs": [
    {
     "data": {
      "image/png": "[encoded data removed]",
      "text/plain": [
       "<matplotlib.figure.Figure at 0xe9c06fec>"
      ]
     },
     "metadata": {},
     "output_type": "display_data"
    }
   ],
   "source": [
    "print_top10_passengers_survived_last_names()"
   ]
  }
 ],
 "metadata": {
  "anaconda-cloud": {},
  "kernelspec": {
   "display_name": "Python [default]",
   "language": "python",
   "name": "python2"
  },
  "language_info": {
   "codemirror_mode": {
    "name": "ipython",
    "version": 2
   },
   "file_extension": ".py",
   "mimetype": "text/x-python",
   "name": "python",
   "nbconvert_exporter": "python",
   "pygments_lexer": "ipython2",
   "version": "2.7.12"
  }
 },
 "nbformat": 4,
 "nbformat_minor": 0
}
